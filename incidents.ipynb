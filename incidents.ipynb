{
  "nbformat": 4,
  "nbformat_minor": 0,
  "metadata": {
    "colab": {
      "provenance": [],
      "authorship_tag": "ABX9TyMMQyrh6iMSgijG2hySofHB",
      "include_colab_link": true
    },
    "kernelspec": {
      "name": "python3",
      "display_name": "Python 3"
    },
    "language_info": {
      "name": "python"
    }
  },
  "cells": [
    {
      "cell_type": "markdown",
      "metadata": {
        "id": "view-in-github",
        "colab_type": "text"
      },
      "source": [
        "<a href=\"https://colab.research.google.com/github/jpbeaud/language/blob/main/incidents.ipynb\" target=\"_parent\"><img src=\"https://colab.research.google.com/assets/colab-badge.svg\" alt=\"Open In Colab\"/></a>"
      ]
    },
    {
      "cell_type": "code",
      "source": [
        "import pandas as pd\n",
        "\n",
        "from sklearn.feature_extraction.text import TfidfVectorizer\n",
        "from sklearn.ensemble import RandomForestClassifier\n",
        "from sklearn.model_selection import train_test_split\n",
        "from sklearn.preprocessing import LabelEncoder\n",
        "from sklearn.metrics import classification_report\n",
        "import chardet\n",
        "# Détection de l'encodage du fichier\n",
        "with open(\"incident.txt\", \"rb\") as f:\n",
        "    result = chardet.detect(f.read())\n",
        "    encoding = result['encoding']\n",
        "# Chargement du fichier CSV\n",
        "df = pd.read_csv(\"incident.txt\", encoding=encoding, sep=None, engine='python')\n",
        "# Identification des colonnes pertinentes\n",
        "desc_col = [col for col in df.columns if \"Description\" in col][0]\n",
        "group_col = [col for col in df.columns if \"résolution\" in col or \"resolution\" in col][0]\n",
        "# Nettoyage des données\n",
        "df = df[[desc_col, group_col]].dropna()\n",
        "# Encodage des labels\n",
        "label_encoder = LabelEncoder()\n",
        "y = label_encoder.fit_transform(df[group_col])\n",
        "# Vectorisation des descriptions\n",
        "vectorizer = TfidfVectorizer(max_features=5000)\n",
        "X = vectorizer.fit_transform(df[desc_col])\n",
        "# Séparation des données\n",
        "X_train, X_test, y_train, y_test = train_test_split(X, y, test_size=0.2, random_state=42)\n",
        "# Entraînement du modèle\n",
        "model = RandomForestClassifier(n_estimators=100, random_state=42)\n",
        "model.fit(X_train, y_train)\n",
        "# Évaluation\n",
        "y_pred = model.predict(X_test)\n",
        "print(classification_report(\n",
        "    y_test, y_pred,\n",
        "    labels=list(set(y_test)),\n",
        "    target_names=label_encoder.inverse_transform(list(set(y_test)))\n",
        "))\n",
        "\n"
      ],
      "metadata": {
        "id": "K8ib-UrIoNHm"
      },
      "execution_count": null,
      "outputs": []
    }
  ]
}