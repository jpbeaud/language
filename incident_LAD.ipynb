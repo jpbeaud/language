{
  "nbformat": 4,
  "nbformat_minor": 0,
  "metadata": {
    "colab": {
      "provenance": [],
      "authorship_tag": "ABX9TyMWhSG2dtJjjdx0egGx/F5a",
      "include_colab_link": true
    },
    "kernelspec": {
      "name": "python3",
      "display_name": "Python 3"
    },
    "language_info": {
      "name": "python"
    }
  },
  "cells": [
    {
      "cell_type": "markdown",
      "metadata": {
        "id": "view-in-github",
        "colab_type": "text"
      },
      "source": [
        "<a href=\"https://colab.research.google.com/github/jpbeaud/language/blob/main/incident_LAD.ipynb\" target=\"_parent\"><img src=\"https://colab.research.google.com/assets/colab-badge.svg\" alt=\"Open In Colab\"/></a>"
      ]
    },
    {
      "cell_type": "code",
      "source": [
        "import pandas as pd\n",
        "\n",
        "from sklearn.feature_extraction.text import TfidfVectorizer\n",
        "from sklearn.ensemble import RandomForestClassifier\n",
        "from sklearn.model_selection import train_test_split\n",
        "from sklearn.preprocessing import LabelEncoder\n",
        "from sklearn.metrics import classification_report\n",
        "import chardet\n",
        "# Détection de l'encodage du fichier\n",
        "with open(\"incident.txt\", \"rb\") as f:\n",
        "    result = chardet.detect(f.read())\n",
        "    encoding = result['encoding']\n",
        "# Chargement du fichier CSV\n",
        "df = pd.read_csv(\"incident.txt\", encoding=encoding, sep=None, engine='python')\n",
        "# Identification des colonnes pertinentes\n",
        "desc_col = [col for col in df.columns if \"Description\" in col][0]\n",
        "group_col = [col for col in df.columns if \"résolution\" in col or \"resolution\" in col][0]\n",
        "# Nettoyage des données\n",
        "df = df[[desc_col, group_col]].dropna()\n",
        "# Encodage des labels\n",
        "label_encoder = LabelEncoder()\n",
        "y = label_encoder.fit_transform(df[group_col])\n",
        "# Vectorisation des descriptions\n",
        "vectorizer = TfidfVectorizer(max_features=5000)\n",
        "X = vectorizer.fit_transform(df[desc_col])\n",
        "# Séparation des données\n",
        "X_train, X_test, y_train, y_test = train_test_split(X, y, test_size=0.6, random_state=42)\n",
        "# Entraînement du modèle\n",
        "model = RandomForestClassifier(n_estimators=100, random_state=42)\n",
        "model.fit(X_train, y_train)\n",
        "# Évaluation\n",
        "y_pred = model.predict(X_test)\n",
        "print(classification_report(\n",
        "    y_test, y_pred,\n",
        "    labels=list(set(y_test)),\n",
        "    target_names=label_encoder.inverse_transform(list(set(y_test)))\n",
        "))\n",
        "\n"
      ],
      "metadata": {
        "colab": {
          "base_uri": "https://localhost:8080/"
        },
        "id": "K8ib-UrIoNHm",
        "outputId": "ac3e39c6-4a23-4d8a-abca-661f763b743d"
      },
      "execution_count": 6,
      "outputs": [
        {
          "output_type": "stream",
          "name": "stdout",
          "text": [
            "                                                  precision    recall  f1-score   support\n",
            "\n",
            "     COV-APP-APPLI-Mobile-SanFrancisco-Levallois       0.24      0.32      0.28        25\n",
            "                             COV-APP-CCED ED-GMF       0.00      0.00      0.00         1\n",
            "                                 COV-APP-CICERON       0.00      0.00      0.00         3\n",
            "                       COV-APP-COMPTE CLIENT-GMF       1.00      0.32      0.48        47\n",
            "                       COV-APP-COMPTE-CLIENT-LEV       1.00      1.00      1.00         1\n",
            "                             COV-APP-CRM MKT-GMF       0.33      0.11      0.17         9\n",
            "                             COV-APP-CRM OPE-GMF       0.77      0.94      0.84      1315\n",
            "                                COV-APP-DATA HUB       0.00      0.00      0.00         5\n",
            "                            COV-APP-DATA HUB SII       0.00      0.00      0.00         7\n",
            "    COV-APP-DECISIONNEL DATA Mainframe-LEVALLOIS       0.00      0.00      0.00         1\n",
            "                       COV-APP-GDE DOCUMENTS-GMF       0.57      0.40      0.47        83\n",
            "                               COV-APP-GED-COVEA       0.25      0.11      0.15         9\n",
            "                             COV-APP-GEDOC-CS-FA       0.00      0.00      0.00         4\n",
            "                            COV-APP-GEDOC-CS-GMF       1.00      0.25      0.40         4\n",
            "                         COV-APP-GEDOC-CS-MG-GMF       0.00      0.00      0.00         2\n",
            "                  COV-APP-GEDOC-CS-MG-Transverse       0.00      0.00      0.00         4\n",
            "                             COV-APP-GEDOC-CS-SA       0.00      0.00      0.00         9\n",
            "                            COV-APP-GEDOC-CS-SCS       0.76      0.89      0.82       186\n",
            "             COV-APP-GEDOC-CS-SOCLES-COMPOSITION       0.00      0.00      0.00         3\n",
            "                      COV-APP-GEST DOCUMENTS-GMF       0.00      0.00      0.00         3\n",
            "                  COV-APP-IARD POSTE TRAVAIL-GMF       0.44      0.04      0.08        97\n",
            "                       COV-APP-INCIDENT-GEDOC-CS       0.36      0.19      0.25        21\n",
            "                           COV-APP-PSANTESIP-MMA       0.33      0.12      0.18         8\n",
            "                         COV-APP-RISQUES SPE-GMF       0.00      0.00      0.00         2\n",
            "                        COV-APP-SFS ANNUAIRE-GMF       0.00      0.00      0.00         2\n",
            "                       COV-APP-SINISTRES ASI-GMF       0.00      0.00      0.00         1\n",
            "                          COV-APP-VIE-OUTILS-GMF       0.00      0.00      0.00         1\n",
            "                          COV-APP-WEB&MOBILE-MMA       0.21      0.23      0.22        26\n",
            "                    COV-APP-WEB&Mobile-Levallois       0.42      0.57      0.48       147\n",
            "              COV-APP-WEB-AVV-LaHavane-Levallois       0.00      0.00      0.00         3\n",
            "                COV-APP-WEB-AVV-Mexico-Levallois       0.64      0.27      0.38        26\n",
            "            COV-APP-WEB-Selfcare-Tokyo-Levallois       1.00      0.29      0.44         7\n",
            "       COV-APP-WEB-Selfcare-Wellington-Levallois       0.30      0.08      0.13        37\n",
            "              COV-APP-WEB-TECH-JAKARTA-Levallois       0.00      0.00      0.00         2\n",
            "                             COV-APX-CONTRAT-GMF       0.44      0.59      0.51       400\n",
            "                  COV-APX-DEBUG GROUPE AUTO-MAAF       0.00      0.00      0.00         1\n",
            "           COV-APX-DEBUG GROUPE PARTENAIRES-MAAF       0.00      0.00      0.00         1\n",
            "            COV-APX-DEBUG GROUPE PREVOYANCE-MAAF       0.50      0.25      0.33         4\n",
            "                                COV-APX-DEMAT-N3       0.00      0.00      0.00         1\n",
            "COV-APX-GEDOC IN SIGNATURE ELECTRONIQUE DOCUSIGN       0.00      0.00      0.00         1\n",
            "   COV-APX-GEDOC IN SIGNATURE ELECTRONIQUE-COVEA       0.00      0.00      0.00        15\n",
            "    COV-APX-GEDOC IN SIGNATURE ELECTRONIQUE-MAAF       0.50      0.20      0.29         5\n",
            "                             COV-APX-LCBFT-COVEA       0.00      0.00      0.00         1\n",
            "                  COV-APX-SD-Transverse-ACCES-EC       0.67      0.25      0.36         8\n",
            "                 COV-APX-SD-Transverse-Squad PFS       0.00      0.00      0.00         1\n",
            "              COV-APX-VSR DEMAT ENTRANTE DDD-GMF       0.00      0.00      0.00         1\n",
            "               COV-APX-VSR DEMAT INTERACTIVE GMF       0.00      0.00      0.00         1\n",
            "                    COV-APX-VSR LCBFT-GMF_V23.06       1.00      0.50      0.67         2\n",
            "                           COV-APX-VSR OPUS-MAAF       0.82      0.92      0.87        25\n",
            "                            COV-APX-VSR-MOTOPASS       0.00      0.00      0.00         1\n",
            "               COV-APX-VSR-PDT-INDEMNISATION-GMF       0.00      0.00      0.00         1\n",
            "     COV-ASM-APPLI-Mobile-SanFrancisco-Levallois       0.00      0.00      0.00        24\n",
            "    COV-ASM-CANAUX NUMERIQUES INTERNET-LEVALLOIS       0.00      0.00      0.00        27\n",
            "                               COV-ASM-GED-COVEA       0.00      0.00      0.00         2\n",
            "                             COV-ASM-GMF VIE-GMF       0.00      0.00      0.00         1\n",
            "                          COV-ASM-IARD-LEVALLOIS       0.35      0.21      0.26       290\n",
            "                    COV-ASM-OUTILS METIER RESEAU       0.36      0.07      0.11        60\n",
            "                                     COV-ASM-PFS       0.00      0.00      0.00         1\n",
            "              COV-ASM-PILOTAGE OPERATIONNEL-GMF        0.00      0.00      0.00         2\n",
            "         COV-ASM-RECETTE-ENCAISSEMENT-COMPTE-GMF       0.00      0.00      0.00         2\n",
            "                COV-ASM-RECETTES METIER IARD-GMF       0.35      0.44      0.39       588\n",
            "              COV-ASM-RELATION CLIENT RESEAU-GMF       0.38      0.05      0.09        56\n",
            "                         COV-ASM-RISQUES SPE-GMF       0.00      0.00      0.00         5\n",
            "                    COV-ASM-SANTE PREVOYANCE-GMF       0.47      0.20      0.28        75\n",
            " COV-ASM-SINISTRE SUPPORT OPERATIONNEL-LEVALLOIS       0.00      0.00      0.00         5\n",
            "                              COV-ASM-Trésorerie       0.00      0.00      0.00         2\n",
            "                    COV-ASM-VIE-SYST-GESTION-GMF       0.75      0.43      0.55         7\n",
            "              COV-ASM-WEB-AVV-LaHavane-Levallois       0.83      0.33      0.48        15\n",
            "                COV-ASM-WEB-AVV-Mexico-Levallois       0.00      0.00      0.00         9\n",
            "            COV-ASM-WEB-Selfcare-Tokyo-Levallois       0.50      0.14      0.22         7\n",
            "       COV-ASM-WEB-Selfcare-Wellington-Levallois       0.15      0.06      0.09        32\n",
            "\n",
            "                                        accuracy                           0.58      3780\n",
            "                                       macro avg       0.25      0.15      0.17      3780\n",
            "                                    weighted avg       0.54      0.58      0.54      3780\n",
            "\n"
          ]
        },
        {
          "output_type": "stream",
          "name": "stderr",
          "text": [
            "/usr/local/lib/python3.11/dist-packages/sklearn/metrics/_classification.py:1565: UndefinedMetricWarning: Precision is ill-defined and being set to 0.0 in labels with no predicted samples. Use `zero_division` parameter to control this behavior.\n",
            "  _warn_prf(average, modifier, f\"{metric.capitalize()} is\", len(result))\n",
            "/usr/local/lib/python3.11/dist-packages/sklearn/metrics/_classification.py:1565: UndefinedMetricWarning: Precision is ill-defined and being set to 0.0 in labels with no predicted samples. Use `zero_division` parameter to control this behavior.\n",
            "  _warn_prf(average, modifier, f\"{metric.capitalize()} is\", len(result))\n",
            "/usr/local/lib/python3.11/dist-packages/sklearn/metrics/_classification.py:1565: UndefinedMetricWarning: Precision is ill-defined and being set to 0.0 in labels with no predicted samples. Use `zero_division` parameter to control this behavior.\n",
            "  _warn_prf(average, modifier, f\"{metric.capitalize()} is\", len(result))\n"
          ]
        }
      ]
    },
    {
      "cell_type": "code",
      "source": [
        "from google.colab import drive\n",
        "drive.mount('/content/drive')"
      ],
      "metadata": {
        "id": "ZCwBGiYPpE7d"
      },
      "execution_count": null,
      "outputs": []
    }
  ]
}